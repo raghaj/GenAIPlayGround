{
 "cells": [
  {
   "cell_type": "code",
   "execution_count": 6,
   "id": "7ad1a8db-3752-4bd6-9e9a-4ed98107a5f8",
   "metadata": {},
   "outputs": [
    {
     "name": "stdout",
     "output_type": "stream",
     "text": [
      "Response from Model: 1. The Phoenix Project: A Novel About DevOps, by Gene Kim, Kevin Behr, and George Spafford\n",
      "2. The DevOps Handbook: How to Create World-Class Agility, Reliability, and Security in the Cloud, by Gene Kim, Jez Humble, Patrick Debois, and John Willis\n",
      "3. Accelerate: The Science of Lean Software and DevOps: Building and Scaling High Performing Technology Organizations, by John Willis, Jez Humble, and Patrick Debois\n",
      "4. Site Reliability Engineering: How Google Engineers Build Scalable Systems, by Niall Richard Murphy\n",
      "5. Designing Data-Intensive Applications: The Big Ideas Behind Reliable, Scalable, and Maintainable Systems, by Martin Kleppmann\n",
      "6. Continuous Delivery: Reliable Software Releases Through Continuous Testing, by Jez Humble and David Farley\n",
      "7. SRE: Site Reliability Engineering, by Brian L. Nusbaum and John K. Allspaw\n",
      "8. The Practice of Cloud System Administration: Designing, Deploying, and Operating Scalable Systems in the Cloud, by Patrick Debois\n",
      "9. Building Microservices: Designing Fine-Grained Systems, by James Lewis and Martin Fowler\n",
      "10. Designing Distributed Systems: Patterns, Principles, and Practices, by Martin Klepp\n"
     ]
    }
   ],
   "source": [
    "### TEXT MODEL \n",
    "\n",
    "\n",
    "import vertexai\n",
    "from vertexai.language_models import TextGenerationModel\n",
    "\n",
    "vertexai.init(project=\"raghagai\", location=\"us-central1\")\n",
    "parameters = {\n",
    "    \"max_output_tokens\": 256,\n",
    "    \"temperature\": 0.2,\n",
    "    \"top_p\": 0.8,\n",
    "    \"top_k\": 40\n",
    "}\n",
    "model = TextGenerationModel.from_pretrained(\"text-bison@001\")\n",
    "response = model.predict(\n",
    "    \"\"\"List top 10 devop books\"\"\",\n",
    "    **parameters\n",
    ")\n",
    "print(f\"Response from Model: {response.text}\")"
   ]
  },
  {
   "cell_type": "code",
   "execution_count": 7,
   "id": "7ba6348d-f47d-4f15-b31a-12721a7fb10d",
   "metadata": {},
   "outputs": [
    {
     "name": "stdout",
     "output_type": "stream",
     "text": [
      "Response from Model: {\"burger\": 1, \"pizza\": 1, \"soda\": 2}\n"
     ]
    }
   ],
   "source": [
    "import vertexai\n",
    "from vertexai.language_models import TextGenerationModel\n",
    "\n",
    "vertexai.init(project=\"raghagai\", location=\"us-central1\")\n",
    "parameters = {\n",
    "    \"max_output_tokens\": 256,\n",
    "    \"temperature\": 0.2,\n",
    "    \"top_p\": 0.8,\n",
    "    \"top_k\": 40\n",
    "}\n",
    "model = TextGenerationModel.from_pretrained(\"text-bison@001\")\n",
    "response = model.predict(\n",
    "    \"\"\"For the given order, return a JSON object\n",
    "Order: A pizza and a pepsi\n",
    "Output: {\\\"pizza\\\": 1, \\\"pepsi\\\": 1} Order: A burger and 2 sodas Output: {\\\"burger\\\": 1, \\\"soda\\\": 2} Order: A burger, A pizza and 2 sodas Output:\"\"\",\n",
    "    **parameters\n",
    ")\n",
    "print(f\"Response from Model: {response.text}\")"
   ]
  },
  {
   "cell_type": "code",
   "execution_count": 9,
   "id": "2a032932-d22b-4e73-8131-ca9a80652662",
   "metadata": {},
   "outputs": [
    {
     "name": "stdout",
     "output_type": "stream",
     "text": [
      "Response from Model: {\"burger\": 1, \"pizza\": 1, \"soda\": 2}\n"
     ]
    }
   ],
   "source": [
    "import vertexai\n",
    "from vertexai.language_models import TextGenerationModel\n",
    "\n",
    "vertexai.init(project=\"raghagai\", location=\"us-central1\")\n",
    "parameters = {\n",
    "    \"max_output_tokens\": 256,\n",
    "    \"temperature\": 0.2,\n",
    "    \"top_p\": 0.8,\n",
    "    \"top_k\": 40\n",
    "}\n",
    "model = TextGenerationModel.from_pretrained(\"text-bison@001\")\n",
    "response = model.predict(\n",
    "    \"\"\"For the given order, return a JSON object\n",
    "Order: \n",
    "Output:  Order:  Output: {\\\"burger\\\": 1, \\\"soda\\\": 2} Order: A burger, A pizza and 2 sodas Output:\n",
    "\n",
    "input: A pizza and a pepsi\n",
    "output: {\\\"pizza\\\": 1, \\\"pepsi\\\": 1}\n",
    "\n",
    "input: A burger and 2 sodas\n",
    "output: {\\\"burger\\\": 1, \\\"soda\\\": 2}\n",
    "\n",
    "input: A burger, A pizza and 2 sodas\n",
    "output:\n",
    "\"\"\",\n",
    "    **parameters\n",
    ")\n",
    "print(f\"Response from Model: {response.text}\")"
   ]
  },
  {
   "cell_type": "code",
   "execution_count": null,
   "id": "a6b9e96c-b1a0-4dbb-838b-2505f19ad4a2",
   "metadata": {},
   "outputs": [],
   "source": []
  }
 ],
 "metadata": {
  "environment": {
   "kernel": "python3",
   "name": "common-gpu.m111",
   "type": "gcloud",
   "uri": "gcr.io/deeplearning-platform-release/base-gpu:m111"
  },
  "kernelspec": {
   "display_name": "Python 3",
   "language": "python",
   "name": "python3"
  },
  "language_info": {
   "codemirror_mode": {
    "name": "ipython",
    "version": 3
   },
   "file_extension": ".py",
   "mimetype": "text/x-python",
   "name": "python",
   "nbconvert_exporter": "python",
   "pygments_lexer": "ipython3",
   "version": "3.10.12"
  }
 },
 "nbformat": 4,
 "nbformat_minor": 5
}
