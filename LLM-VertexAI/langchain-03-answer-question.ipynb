{
 "cells": [
  {
   "cell_type": "code",
   "execution_count": 1,
   "id": "f5ffc48b-b97b-457e-bc3e-a1f0cc3acc8f",
   "metadata": {},
   "outputs": [
    {
     "name": "stdout",
     "output_type": "stream",
     "text": [
      "Requirement already satisfied: google-cloud-aiplatform in /opt/conda/lib/python3.10/site-packages (1.31.0)\n",
      "Requirement already satisfied: google-api-core[grpc]!=2.0.*,!=2.1.*,!=2.2.*,!=2.3.*,!=2.4.*,!=2.5.*,!=2.6.*,!=2.7.*,<3.0.0dev,>=1.32.0 in /opt/conda/lib/python3.10/site-packages (from google-cloud-aiplatform) (1.34.0)\n",
      "Requirement already satisfied: proto-plus<2.0.0dev,>=1.22.0 in /opt/conda/lib/python3.10/site-packages (from google-cloud-aiplatform) (1.22.3)\n",
      "Requirement already satisfied: protobuf!=3.20.0,!=3.20.1,!=4.21.0,!=4.21.1,!=4.21.2,!=4.21.3,!=4.21.4,!=4.21.5,<5.0.0dev,>=3.19.5 in /opt/conda/lib/python3.10/site-packages (from google-cloud-aiplatform) (3.20.3)\n",
      "Requirement already satisfied: packaging>=14.3 in /opt/conda/lib/python3.10/site-packages (from google-cloud-aiplatform) (23.1)\n",
      "Requirement already satisfied: google-cloud-storage<3.0.0dev,>=1.32.0 in /opt/conda/lib/python3.10/site-packages (from google-cloud-aiplatform) (2.10.0)\n",
      "Requirement already satisfied: google-cloud-bigquery<4.0.0dev,>=1.15.0 in /opt/conda/lib/python3.10/site-packages (from google-cloud-aiplatform) (3.11.4)\n",
      "Requirement already satisfied: google-cloud-resource-manager<3.0.0dev,>=1.3.3 in /opt/conda/lib/python3.10/site-packages (from google-cloud-aiplatform) (1.10.3)\n",
      "Requirement already satisfied: shapely<2.0.0 in /opt/conda/lib/python3.10/site-packages (from google-cloud-aiplatform) (1.8.5.post1)\n",
      "Requirement already satisfied: googleapis-common-protos<2.0dev,>=1.56.2 in /opt/conda/lib/python3.10/site-packages (from google-api-core[grpc]!=2.0.*,!=2.1.*,!=2.2.*,!=2.3.*,!=2.4.*,!=2.5.*,!=2.6.*,!=2.7.*,<3.0.0dev,>=1.32.0->google-cloud-aiplatform) (1.60.0)\n",
      "Requirement already satisfied: google-auth<3.0dev,>=1.25.0 in /opt/conda/lib/python3.10/site-packages (from google-api-core[grpc]!=2.0.*,!=2.1.*,!=2.2.*,!=2.3.*,!=2.4.*,!=2.5.*,!=2.6.*,!=2.7.*,<3.0.0dev,>=1.32.0->google-cloud-aiplatform) (2.22.0)\n",
      "Requirement already satisfied: requests<3.0.0dev,>=2.18.0 in /opt/conda/lib/python3.10/site-packages (from google-api-core[grpc]!=2.0.*,!=2.1.*,!=2.2.*,!=2.3.*,!=2.4.*,!=2.5.*,!=2.6.*,!=2.7.*,<3.0.0dev,>=1.32.0->google-cloud-aiplatform) (2.31.0)\n",
      "Requirement already satisfied: grpcio<2.0dev,>=1.33.2 in /opt/conda/lib/python3.10/site-packages (from google-api-core[grpc]!=2.0.*,!=2.1.*,!=2.2.*,!=2.3.*,!=2.4.*,!=2.5.*,!=2.6.*,!=2.7.*,<3.0.0dev,>=1.32.0->google-cloud-aiplatform) (1.57.0)\n",
      "Requirement already satisfied: grpcio-status<2.0dev,>=1.33.2 in /opt/conda/lib/python3.10/site-packages (from google-api-core[grpc]!=2.0.*,!=2.1.*,!=2.2.*,!=2.3.*,!=2.4.*,!=2.5.*,!=2.6.*,!=2.7.*,<3.0.0dev,>=1.32.0->google-cloud-aiplatform) (1.48.2)\n",
      "Requirement already satisfied: google-cloud-core<3.0.0dev,>=1.6.0 in /opt/conda/lib/python3.10/site-packages (from google-cloud-bigquery<4.0.0dev,>=1.15.0->google-cloud-aiplatform) (2.3.3)\n",
      "Requirement already satisfied: google-resumable-media<3.0dev,>=0.6.0 in /opt/conda/lib/python3.10/site-packages (from google-cloud-bigquery<4.0.0dev,>=1.15.0->google-cloud-aiplatform) (2.5.0)\n",
      "Requirement already satisfied: python-dateutil<3.0dev,>=2.7.2 in /opt/conda/lib/python3.10/site-packages (from google-cloud-bigquery<4.0.0dev,>=1.15.0->google-cloud-aiplatform) (2.8.2)\n",
      "Requirement already satisfied: grpc-google-iam-v1<1.0.0dev,>=0.12.4 in /opt/conda/lib/python3.10/site-packages (from google-cloud-resource-manager<3.0.0dev,>=1.3.3->google-cloud-aiplatform) (0.12.6)\n",
      "Requirement already satisfied: cachetools<6.0,>=2.0.0 in /opt/conda/lib/python3.10/site-packages (from google-auth<3.0dev,>=1.25.0->google-api-core[grpc]!=2.0.*,!=2.1.*,!=2.2.*,!=2.3.*,!=2.4.*,!=2.5.*,!=2.6.*,!=2.7.*,<3.0.0dev,>=1.32.0->google-cloud-aiplatform) (5.3.1)\n",
      "Requirement already satisfied: pyasn1-modules>=0.2.1 in /opt/conda/lib/python3.10/site-packages (from google-auth<3.0dev,>=1.25.0->google-api-core[grpc]!=2.0.*,!=2.1.*,!=2.2.*,!=2.3.*,!=2.4.*,!=2.5.*,!=2.6.*,!=2.7.*,<3.0.0dev,>=1.32.0->google-cloud-aiplatform) (0.3.0)\n",
      "Requirement already satisfied: rsa<5,>=3.1.4 in /opt/conda/lib/python3.10/site-packages (from google-auth<3.0dev,>=1.25.0->google-api-core[grpc]!=2.0.*,!=2.1.*,!=2.2.*,!=2.3.*,!=2.4.*,!=2.5.*,!=2.6.*,!=2.7.*,<3.0.0dev,>=1.32.0->google-cloud-aiplatform) (4.9)\n",
      "Requirement already satisfied: six>=1.9.0 in /opt/conda/lib/python3.10/site-packages (from google-auth<3.0dev,>=1.25.0->google-api-core[grpc]!=2.0.*,!=2.1.*,!=2.2.*,!=2.3.*,!=2.4.*,!=2.5.*,!=2.6.*,!=2.7.*,<3.0.0dev,>=1.32.0->google-cloud-aiplatform) (1.16.0)\n",
      "Requirement already satisfied: urllib3<2.0 in /opt/conda/lib/python3.10/site-packages (from google-auth<3.0dev,>=1.25.0->google-api-core[grpc]!=2.0.*,!=2.1.*,!=2.2.*,!=2.3.*,!=2.4.*,!=2.5.*,!=2.6.*,!=2.7.*,<3.0.0dev,>=1.32.0->google-cloud-aiplatform) (1.26.16)\n",
      "Requirement already satisfied: google-crc32c<2.0dev,>=1.0 in /opt/conda/lib/python3.10/site-packages (from google-resumable-media<3.0dev,>=0.6.0->google-cloud-bigquery<4.0.0dev,>=1.15.0->google-cloud-aiplatform) (1.5.0)\n",
      "Requirement already satisfied: charset-normalizer<4,>=2 in /opt/conda/lib/python3.10/site-packages (from requests<3.0.0dev,>=2.18.0->google-api-core[grpc]!=2.0.*,!=2.1.*,!=2.2.*,!=2.3.*,!=2.4.*,!=2.5.*,!=2.6.*,!=2.7.*,<3.0.0dev,>=1.32.0->google-cloud-aiplatform) (3.2.0)\n",
      "Requirement already satisfied: idna<4,>=2.5 in /opt/conda/lib/python3.10/site-packages (from requests<3.0.0dev,>=2.18.0->google-api-core[grpc]!=2.0.*,!=2.1.*,!=2.2.*,!=2.3.*,!=2.4.*,!=2.5.*,!=2.6.*,!=2.7.*,<3.0.0dev,>=1.32.0->google-cloud-aiplatform) (3.4)\n",
      "Requirement already satisfied: certifi>=2017.4.17 in /opt/conda/lib/python3.10/site-packages (from requests<3.0.0dev,>=2.18.0->google-api-core[grpc]!=2.0.*,!=2.1.*,!=2.2.*,!=2.3.*,!=2.4.*,!=2.5.*,!=2.6.*,!=2.7.*,<3.0.0dev,>=1.32.0->google-cloud-aiplatform) (2023.7.22)\n",
      "Requirement already satisfied: pyasn1<0.6.0,>=0.4.6 in /opt/conda/lib/python3.10/site-packages (from pyasn1-modules>=0.2.1->google-auth<3.0dev,>=1.25.0->google-api-core[grpc]!=2.0.*,!=2.1.*,!=2.2.*,!=2.3.*,!=2.4.*,!=2.5.*,!=2.6.*,!=2.7.*,<3.0.0dev,>=1.32.0->google-cloud-aiplatform) (0.5.0)\n",
      "Note: you may need to restart the kernel to use updated packages.\n",
      "Requirement already satisfied: langchain in /opt/conda/lib/python3.10/site-packages (0.0.300)\n",
      "Requirement already satisfied: PyYAML>=5.3 in /opt/conda/lib/python3.10/site-packages (from langchain) (6.0.1)\n",
      "Requirement already satisfied: SQLAlchemy<3,>=1.4 in /opt/conda/lib/python3.10/site-packages (from langchain) (2.0.20)\n",
      "Requirement already satisfied: aiohttp<4.0.0,>=3.8.3 in /opt/conda/lib/python3.10/site-packages (from langchain) (3.8.5)\n",
      "Requirement already satisfied: anyio<4.0 in /opt/conda/lib/python3.10/site-packages (from langchain) (3.7.1)\n",
      "Requirement already satisfied: async-timeout<5.0.0,>=4.0.0 in /opt/conda/lib/python3.10/site-packages (from langchain) (4.0.3)\n",
      "Requirement already satisfied: dataclasses-json<0.7,>=0.5.7 in /opt/conda/lib/python3.10/site-packages (from langchain) (0.6.0)\n",
      "Requirement already satisfied: jsonpatch<2.0,>=1.33 in /opt/conda/lib/python3.10/site-packages (from langchain) (1.33)\n",
      "Requirement already satisfied: langsmith<0.1.0,>=0.0.38 in /opt/conda/lib/python3.10/site-packages (from langchain) (0.0.40)\n",
      "Requirement already satisfied: numexpr<3.0.0,>=2.8.4 in /opt/conda/lib/python3.10/site-packages (from langchain) (2.8.6)\n",
      "Requirement already satisfied: numpy<2,>=1 in /opt/conda/lib/python3.10/site-packages (from langchain) (1.23.5)\n",
      "Requirement already satisfied: pydantic<3,>=1 in /opt/conda/lib/python3.10/site-packages (from langchain) (1.10.12)\n",
      "Requirement already satisfied: requests<3,>=2 in /opt/conda/lib/python3.10/site-packages (from langchain) (2.31.0)\n",
      "Requirement already satisfied: tenacity<9.0.0,>=8.1.0 in /opt/conda/lib/python3.10/site-packages (from langchain) (8.2.3)\n",
      "Requirement already satisfied: attrs>=17.3.0 in /opt/conda/lib/python3.10/site-packages (from aiohttp<4.0.0,>=3.8.3->langchain) (23.1.0)\n",
      "Requirement already satisfied: charset-normalizer<4.0,>=2.0 in /opt/conda/lib/python3.10/site-packages (from aiohttp<4.0.0,>=3.8.3->langchain) (3.2.0)\n",
      "Requirement already satisfied: multidict<7.0,>=4.5 in /opt/conda/lib/python3.10/site-packages (from aiohttp<4.0.0,>=3.8.3->langchain) (6.0.4)\n",
      "Requirement already satisfied: yarl<2.0,>=1.0 in /opt/conda/lib/python3.10/site-packages (from aiohttp<4.0.0,>=3.8.3->langchain) (1.9.2)\n",
      "Requirement already satisfied: frozenlist>=1.1.1 in /opt/conda/lib/python3.10/site-packages (from aiohttp<4.0.0,>=3.8.3->langchain) (1.4.0)\n",
      "Requirement already satisfied: aiosignal>=1.1.2 in /opt/conda/lib/python3.10/site-packages (from aiohttp<4.0.0,>=3.8.3->langchain) (1.3.1)\n",
      "Requirement already satisfied: idna>=2.8 in /opt/conda/lib/python3.10/site-packages (from anyio<4.0->langchain) (3.4)\n",
      "Requirement already satisfied: sniffio>=1.1 in /opt/conda/lib/python3.10/site-packages (from anyio<4.0->langchain) (1.3.0)\n",
      "Requirement already satisfied: exceptiongroup in /opt/conda/lib/python3.10/site-packages (from anyio<4.0->langchain) (1.1.3)\n",
      "Requirement already satisfied: marshmallow<4.0.0,>=3.18.0 in /opt/conda/lib/python3.10/site-packages (from dataclasses-json<0.7,>=0.5.7->langchain) (3.20.1)\n",
      "Requirement already satisfied: typing-inspect<1,>=0.4.0 in /opt/conda/lib/python3.10/site-packages (from dataclasses-json<0.7,>=0.5.7->langchain) (0.9.0)\n",
      "Requirement already satisfied: jsonpointer>=1.9 in /opt/conda/lib/python3.10/site-packages (from jsonpatch<2.0,>=1.33->langchain) (2.0)\n",
      "Requirement already satisfied: typing-extensions>=4.2.0 in /opt/conda/lib/python3.10/site-packages (from pydantic<3,>=1->langchain) (4.7.1)\n",
      "Requirement already satisfied: urllib3<3,>=1.21.1 in /opt/conda/lib/python3.10/site-packages (from requests<3,>=2->langchain) (1.26.16)\n",
      "Requirement already satisfied: certifi>=2017.4.17 in /opt/conda/lib/python3.10/site-packages (from requests<3,>=2->langchain) (2023.7.22)\n",
      "Requirement already satisfied: greenlet!=0.4.17 in /opt/conda/lib/python3.10/site-packages (from SQLAlchemy<3,>=1.4->langchain) (2.0.2)\n",
      "Requirement already satisfied: packaging>=17.0 in /opt/conda/lib/python3.10/site-packages (from marshmallow<4.0.0,>=3.18.0->dataclasses-json<0.7,>=0.5.7->langchain) (23.1)\n",
      "Requirement already satisfied: mypy-extensions>=0.3.0 in /opt/conda/lib/python3.10/site-packages (from typing-inspect<1,>=0.4.0->dataclasses-json<0.7,>=0.5.7->langchain) (1.0.0)\n",
      "Note: you may need to restart the kernel to use updated packages.\n",
      "Collecting faiss-cpu\n",
      "  Downloading faiss_cpu-1.7.4-cp310-cp310-manylinux_2_17_x86_64.manylinux2014_x86_64.whl (17.6 MB)\n",
      "\u001b[2K     \u001b[90m━━━━━━━━━━━━━━━━━━━━━━━━━━━━━━━━━━━━━━━━\u001b[0m \u001b[32m17.6/17.6 MB\u001b[0m \u001b[31m49.0 MB/s\u001b[0m eta \u001b[36m0:00:00\u001b[0m00:01\u001b[0m00:01\u001b[0m\n",
      "\u001b[?25hInstalling collected packages: faiss-cpu\n",
      "Successfully installed faiss-cpu-1.7.4\n",
      "Note: you may need to restart the kernel to use updated packages.\n"
     ]
    }
   ],
   "source": [
    "%pip install google-cloud-aiplatform\n",
    "%pip install langchain\n",
    "\n",
    "%pip install faiss-cpu #Facebook AI Similarity Search"
   ]
  },
  {
   "cell_type": "code",
   "execution_count": 2,
   "id": "9b0a98f6-dc4f-4ec9-bb2f-20e4ef0690ee",
   "metadata": {},
   "outputs": [
    {
     "name": "stdout",
     "output_type": "stream",
     "text": [
      "5 docs \n"
     ]
    }
   ],
   "source": [
    "from langchain.text_splitter import RecursiveCharacterTextSplitter\n",
    "\n",
    "with open('devops-article.md', 'r') as file:\n",
    "    text = file.read()\n",
    "\n",
    "#chunk_size - max number of characters in a chunk\n",
    "#chunk_overlap - number of characters overlapping between two adjacent chunks\n",
    "text_splitter = RecursiveCharacterTextSplitter(separators=[\"\\n\\n\", \"\\n\"], chunk_size=5000, chunk_overlap=350)\n",
    "\n",
    "docs = text_splitter.create_documents([text])\n",
    "\n",
    "print (f\"{len(docs)} docs \")\n"
   ]
  },
  {
   "cell_type": "code",
   "execution_count": 3,
   "id": "b5842e08-8c91-40c6-82fa-d111565b6718",
   "metadata": {},
   "outputs": [
    {
     "name": "stdout",
     "output_type": "stream",
     "text": [
      "[(Document(page_content=\"### Role of Docker and Kubernetes in DevOps\\n\\nWhat is the role of Docker and Kubernetes in DevOps?\\n\\n\\nIn the microservices world, a few microservices might be built with Java, a few with Python and a few with JavaScript.\\n\\nDifferent microservices will have different ways of building applications and deploying them to servers.\\n\\nThis makes operations team's job difficult.\\n\\nHow can we have similar way of deploying multiple types of applications? Enter Containers and Docker.\\n\\nUsing Docker you can build images of microservices - irrespective of their language - Java, Python or JavaScript. You can run these images the same way on any infrastructure.\\n\\nThis simplifies operations.\\n\\nKubernetes adds on to this by helping to orchestrate different types of containers and deploying them to clusters.\\n\\n\\nKubernetes also provides\\n- Service Discovery\\n- Load Balancing\\n- Centralized Configuration\\n\\nDocker and Kubernetes make DevOps easy.\\n\\n\\n\\n### Important DevOps Metrics\\n\\nFollowing are some of the important DevOps metrics you can track and improve over a period of time.\\n- Deployment Frequency - How often are applications deployed to production?\\n- Time To Market - How long do you need to take a feature from coding to production?\\n- Failure Rate of New Releases - How many of your releases fail?\\n- Lead Time to Fixes - How long do you need to make a production fix and release it to production?\\n- Mean Time to Recovery  - How long do you take to recover your production environment from a major issue?\\n\\n### DevOps Best Practices\\n\\nFollowing are some of the best practices with DevOps\\n- Standardization \\n- Teams with Cross Function Skills \\n- Focus on Culture \\n- Automate, Automate and ..  \\n- Immutable Infrastructure \\n- Dev Prod Parity \\n- Version Control Everything \\n- Self Provisioning \\n\\n### DevOps Maturity Signals\\n\\nHow do you measure the maturity of your DevOps Implementations. Here are some of the important questions to ask.\\n\\n#### Development\\n- Does every commit trigger automated tests and automated code quality checks?\\n- Is your code continuously delivered to production?\\n- Do you use pair programming?\\n- Do you use TDD and BDD? \\n- Do you have a lot of re-usable modules?\\n- Can development teams self provision environments?\\n- How long does it take to deliver a quick fix to production?\\n\\n#### Test\\n- Are your tests full automated with high quality production like test data?\\n- Does your builds fail when your automated tests fail?\\n- Are your testing cycles small?\\n- Do you have automated NFR tests?\\n\\n#### Deployment\\n- Do you have Dev Prod Parity?\\n- Do you use A/B Testing?\\n- Do you use canary deployments?\\n- Can you deploy at the click of a button?\\n- Can you rollback at the click of a button?\\n- Can you provision and release infrastructure at the click of a button?\\n- Do you use IAC and version control your infrastructure?\\n\\n#### Monitoring\\n- Does the team use a centralized monitoring system?\\n- Can development team get access to logs at the click of a button?\\n- Does the team get an automated alert if something goes wrong in production?\\n\\n#### Teams and Processes\\n- Is the team looking to continuously improve?\\n- Does the team have all the skills it needs from Business, Development and Operations?\\n- Does the team track the key devops metrics and improve on them?\\n- Do you have the culture of take Local Discoveries and using them to make Global Improvements?\\n\\n### DevOps Transformation Best Practices\\n- Leadership Buy-in is Critical \\n- Involves Upfront Costs\\n- Setup COEs to help teams\\n- Choose the right application and team\\n- Start Small \\n- Sharing Learnings (Newsletters, Communication, COEs) \\n- Encourage People with Exploration and Automation Mindset \\n- Recognize DevOps Teams\", metadata={}), 0.46438417), (Document(page_content=\"> How can we make this possible?\\n\\n> Break down the wall between Dev and Ops! \\n\\n#### Getting Dev and Ops Together - Option 1\\n\\nIn matured Dev Ops enterprises, Dev and Ops work as part of the same scrum team and share each other responsibilities. \\n\\n#### Getting Dev and Ops Together - Option 2\\n\\nHowever, if you are in the early stages of devops evolution, how can you get Dev and Ops have common objectives and work together?\\n\\nHere are some of the things you can do:\\n- One of the things you can start with is to have the development team share some of the responsibilities of the operation team. For example, the dev team can take the responsibility of new release for the first week after production deployment. This helps the development team understand the challenges faced by operations in taking new releases live and help them come together and find better solutions.\\n- Other thing you can do is to involve a representative of the operations team in the Scrum activities. Involve them in Stand ups and Retrospectives of the team.\\n- The next thing you can do is to make the challenges faced by Operations team more visible to the Development team. When you face any challenges in operations, make development teams part of the teams working on solutions.\\n\\nWhich way you take, find ways of breaking the wall and get the Development and Operations team together.\\n\\nAnother interesting option emerges because of automation. By using Infrastructure as Code and enabling Self Provisioning for Developers, You can create common language that operations and development teams understand - code. More about this in the next couple of steps.\\n\\n### A DevOps Use Case\\n\\nConsider the picture below:\\n\\n\\nThis picture show cases two simple workflows\\n- No 1 : Infrastructure as Code using Terraform and Azure DevOps to provision Kubernetes Clusters\\n- No 2 : Continuous Deployment of Microservices using Azure DevOps to build and deploy Docker images for microservices into Kubernetes Clusters\\n\\nDoes this sound complex?\\n\\nLet's break it down and try and understand them.\\n\\nLet's start with No 2 - Continuous Deployment first.\\n\\n#### No 2 : DevOps Continuous Deployment with Azure DevOps and Jenkins\\n\\nWhat is the use of having great tests and code quality checks if you don't run them often?\\n\\nWhat is the use of deployment automation if you don't deploy software often enough?\\n\\nAs soon as a developer commits code into the version control system, the following steps are executed:\\n- Unit Tests \\n- Code Quality Checks \\n- Integration Tests \\n- Application Packaging - Building a deployable version of application. Tools - Maven, Gradle, Docker\\n- Application Deployment - Putting new applications or new versions of application live.\\n- An email to the testing team to test the application.\\n\\nAs soon as there is an approval from the test team, the app is immediately deployed to the  Next Environment.\\n\\nThis is called Continuous Deployment. If you continuously deploy upto production, it is called Continuous Delivery.\\n\\nThe most popular CI CD Tools are Azure DevOps and Jenkins\\n\\n#### No 1 : DevOps Infrastructure as Code with Terraform\\n\\nIn older days, we used to create environments and deploy applications manually.\\n\\n\\nEverytime you create a server, this needs to be done manually. \\n- What if Java version needs to be updated? \\n- A security patch needs to be applied?\\n\\nYou do it manually.\\n\\nWhat is the result of this?\\n- High Chance of Errors.\\n- Replication environments is difficult.\\n\\n\\n#### Infrastructure as Code\\n\\nInfrastructure as Code - Treat Infrastructure the same way as application code\\n\\nHere are some of the important things to understand with Infrastructure as Code\\n- Infra team focuses on value added work (instead of routine work)\\n- Less Errors and Quick Recovery from Failures\\n- Servers are Consistent (Avoids Configuration Drift)\\n\\n\\nThe most popular IaC tools are Ansible and Terraform.\\n\\nTypically these are the steps in IaC\\n- Provision Servers(Enabled by Cloud) from a Template\\n- Install Software \\n- Configure Software\\n\\n##### Server Provisioning\\n\\nTypically Provisioning Tools are used to provision servers and get new server ready with networking capabilities. The most popular provisioning tools are CloudFormation and Terraform. \\n\\nUsing Terraform, you can provision servers and rest of your infrastructure, like load balancers, databases, networking configuration, etc. You can create servers using pre created images created using tools like Packer and AMI (Amazon Machine Image).\\n\\n##### Configuration Management\\n\\nConfiguration Management tools are used to \\n- Install Software \\n- Configure Software\\n\\nPopular Configuration management tools are Chef, Puppet, Ansible, and SaltStack. These are designed to install and manage software on existing servers.\\n\\n### Role of Docker and Kubernetes in DevOps\\n\\nWhat is the role of Docker and Kubernetes in DevOps?\\n\\n\\nIn the microservices world, a few microservices might be built with Java, a few with Python and a few with JavaScript.\", metadata={}), 0.54181826)]\n"
     ]
    }
   ],
   "source": [
    "from langchain.embeddings import VertexAIEmbeddings\n",
    "from langchain.vectorstores import FAISS\n",
    "\n",
    "#FAISS.from_documents - Return VectorStore initialized from documents and embeddings.\n",
    "vector_store = FAISS.from_documents(docs, VertexAIEmbeddings())\n",
    "\n",
    "question = \"What are DevOps Transformation Best Practices?\"\n",
    "\n",
    "#similar_docs = vector_store.similarity_search(question, k=2)\n",
    "\n",
    "similar_docs_with_score = vector_store.similarity_search_with_score(question, k=2)\n",
    "\n",
    "print(similar_docs_with_score)\n",
    "\n"
   ]
  },
  {
   "cell_type": "code",
   "execution_count": 5,
   "id": "fad0dc1b-a7c1-455c-a4a0-3dbd14a2caf2",
   "metadata": {},
   "outputs": [
    {
     "name": "stdout",
     "output_type": "stream",
     "text": [
      "In matured Dev Ops enterprises, Dev and Ops work as part of the same scrum team and share each other responsibilities.\n"
     ]
    }
   ],
   "source": [
    "from langchain.llms import VertexAI\n",
    "from langchain.chains.question_answering import load_qa_chain\n",
    "\n",
    "llm = VertexAI(\n",
    "    model_name='text-bison@001',\n",
    "    temperature=0.0,\n",
    "    verbose=True,\n",
    ")\n",
    "\n",
    "#question = 'What are DevOps Transformation Best Practices?'\n",
    "question = 'DevOps Maturity tied to Development '\n",
    "#question = 'What are some of the most important DevOps metrics?'\n",
    "\n",
    "similar_docs = vector_store.similarity_search(question, k=2)\n",
    "\n",
    "chain = load_qa_chain(llm, chain_type='stuff')\n",
    "\n",
    "print(chain.run(input_documents=similar_docs, question=question).strip())\n"
   ]
  },
  {
   "cell_type": "code",
   "execution_count": null,
   "id": "ae054615-c237-44c7-8126-c39fbb7182d9",
   "metadata": {},
   "outputs": [],
   "source": []
  }
 ],
 "metadata": {
  "environment": {
   "kernel": "python3",
   "name": "common-gpu.m111",
   "type": "gcloud",
   "uri": "gcr.io/deeplearning-platform-release/base-gpu:m111"
  },
  "kernelspec": {
   "display_name": "Python 3",
   "language": "python",
   "name": "python3"
  },
  "language_info": {
   "codemirror_mode": {
    "name": "ipython",
    "version": 3
   },
   "file_extension": ".py",
   "mimetype": "text/x-python",
   "name": "python",
   "nbconvert_exporter": "python",
   "pygments_lexer": "ipython3",
   "version": "3.10.12"
  }
 },
 "nbformat": 4,
 "nbformat_minor": 5
}
